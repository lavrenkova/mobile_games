{
 "cells": [
  {
   "cell_type": "markdown",
   "metadata": {},
   "source": [
    "# Mobile Games"
   ]
  },
  {
   "cell_type": "markdown",
   "metadata": {},
   "source": [
    "Мы работаетем в компании, которая разрабатывает мобильные игры. Наша главная задача – исследовать несколько аспектов мобильного приложения:\n",
    "<ol>\n",
    "    <li>Retention. Необходимо написать функцию для его подсчета. </li>\n",
    "    <li>В компании провели A/B тестирование наборов акционных предложений. На основе имеющихся данных нужно определить, какой набор можно считать лучшим и на основе каких метрик стоит принять правильное решение.</li>\n",
    "    <li>Предложить метрики для оценки результатов последнего прошедшего тематического события в игре.</li>\n",
    "</ol>"
   ]
  },
  {
   "cell_type": "code",
   "execution_count": 1,
   "metadata": {},
   "outputs": [],
   "source": [
    "# импортируем необходимые бибиотеки\n",
    "\n",
    "import warnings\n",
    "warnings.filterwarnings(\"ignore\")\n",
    "\n",
    "import pandas as pd\n",
    "import numpy as np\n",
    "import pingouin as pg\n",
    "from datetime import datetime\n",
    "\n",
    "%matplotlib inline\n",
    "import seaborn as sns\n",
    "import matplotlib.pyplot as plt\n",
    "\n",
    "from scipy.stats import norm\n",
    "import scipy.stats as ss\n",
    "import statsmodels.api as sm\n",
    "from tqdm.auto import tqdm\n",
    "\n",
    "plt.style.use('ggplot')"
   ]
  },
  {
   "cell_type": "markdown",
   "metadata": {},
   "source": [
    "<h3><b>Задание 1. </b> Retention</h3>"
   ]
  },
  {
   "cell_type": "markdown",
   "metadata": {},
   "source": [
    "Нам необходимо написать функцию для подсчета Retention, которую можно использовать как на полном датасете, так и на сэмпле данных. Сами данные находятся в двух .csv файлах:\n",
    "<ul>\n",
    "    <li>problem1-reg_data.csv – данные о времени регистрации</li>\n",
    "    <li>problem1-auth_data.csv – данные о времени захода пользователей в игру</li>\n",
    "</ul>\n",
    "\n",
    "Для начала считаем эти данные и посмотрим на их структуру."
   ]
  },
  {
   "cell_type": "code",
   "execution_count": 2,
   "metadata": {},
   "outputs": [],
   "source": [
    "reg_df = pd.read_csv('problem1-reg_data.csv', sep=';')\n",
    "auth_df = pd.read_csv('problem1-auth_data.csv', sep=';') "
   ]
  },
  {
   "cell_type": "code",
   "execution_count": 3,
   "metadata": {},
   "outputs": [
    {
     "data": {
      "text/html": [
       "<div>\n",
       "<style scoped>\n",
       "    .dataframe tbody tr th:only-of-type {\n",
       "        vertical-align: middle;\n",
       "    }\n",
       "\n",
       "    .dataframe tbody tr th {\n",
       "        vertical-align: top;\n",
       "    }\n",
       "\n",
       "    .dataframe thead th {\n",
       "        text-align: right;\n",
       "    }\n",
       "</style>\n",
       "<table border=\"1\" class=\"dataframe\">\n",
       "  <thead>\n",
       "    <tr style=\"text-align: right;\">\n",
       "      <th></th>\n",
       "      <th>reg_ts</th>\n",
       "      <th>uid</th>\n",
       "    </tr>\n",
       "  </thead>\n",
       "  <tbody>\n",
       "    <tr>\n",
       "      <th>0</th>\n",
       "      <td>911382223</td>\n",
       "      <td>1</td>\n",
       "    </tr>\n",
       "    <tr>\n",
       "      <th>1</th>\n",
       "      <td>932683089</td>\n",
       "      <td>2</td>\n",
       "    </tr>\n",
       "    <tr>\n",
       "      <th>2</th>\n",
       "      <td>947802447</td>\n",
       "      <td>3</td>\n",
       "    </tr>\n",
       "    <tr>\n",
       "      <th>3</th>\n",
       "      <td>959523541</td>\n",
       "      <td>4</td>\n",
       "    </tr>\n",
       "    <tr>\n",
       "      <th>4</th>\n",
       "      <td>969103313</td>\n",
       "      <td>5</td>\n",
       "    </tr>\n",
       "  </tbody>\n",
       "</table>\n",
       "</div>"
      ],
      "text/plain": [
       "      reg_ts  uid\n",
       "0  911382223    1\n",
       "1  932683089    2\n",
       "2  947802447    3\n",
       "3  959523541    4\n",
       "4  969103313    5"
      ]
     },
     "execution_count": 3,
     "metadata": {},
     "output_type": "execute_result"
    }
   ],
   "source": [
    "reg_df.head()"
   ]
  },
  {
   "cell_type": "code",
   "execution_count": 4,
   "metadata": {},
   "outputs": [
    {
     "data": {
      "text/html": [
       "<div>\n",
       "<style scoped>\n",
       "    .dataframe tbody tr th:only-of-type {\n",
       "        vertical-align: middle;\n",
       "    }\n",
       "\n",
       "    .dataframe tbody tr th {\n",
       "        vertical-align: top;\n",
       "    }\n",
       "\n",
       "    .dataframe thead th {\n",
       "        text-align: right;\n",
       "    }\n",
       "</style>\n",
       "<table border=\"1\" class=\"dataframe\">\n",
       "  <thead>\n",
       "    <tr style=\"text-align: right;\">\n",
       "      <th></th>\n",
       "      <th>auth_ts</th>\n",
       "      <th>uid</th>\n",
       "    </tr>\n",
       "  </thead>\n",
       "  <tbody>\n",
       "    <tr>\n",
       "      <th>0</th>\n",
       "      <td>911382223</td>\n",
       "      <td>1</td>\n",
       "    </tr>\n",
       "    <tr>\n",
       "      <th>1</th>\n",
       "      <td>932683089</td>\n",
       "      <td>2</td>\n",
       "    </tr>\n",
       "    <tr>\n",
       "      <th>2</th>\n",
       "      <td>932921206</td>\n",
       "      <td>2</td>\n",
       "    </tr>\n",
       "    <tr>\n",
       "      <th>3</th>\n",
       "      <td>933393015</td>\n",
       "      <td>2</td>\n",
       "    </tr>\n",
       "    <tr>\n",
       "      <th>4</th>\n",
       "      <td>933875379</td>\n",
       "      <td>2</td>\n",
       "    </tr>\n",
       "  </tbody>\n",
       "</table>\n",
       "</div>"
      ],
      "text/plain": [
       "     auth_ts  uid\n",
       "0  911382223    1\n",
       "1  932683089    2\n",
       "2  932921206    2\n",
       "3  933393015    2\n",
       "4  933875379    2"
      ]
     },
     "execution_count": 4,
     "metadata": {},
     "output_type": "execute_result"
    }
   ],
   "source": [
    "auth_df.head()"
   ]
  },
  {
   "cell_type": "markdown",
   "metadata": {},
   "source": [
    "Можно заметить, что время в датафреймах представлено в неподходящем для нас формате, приведем его к нормальному виду дат."
   ]
  },
  {
   "cell_type": "code",
   "execution_count": 5,
   "metadata": {},
   "outputs": [],
   "source": [
    "reg_df['reg_dt'] = pd.to_datetime(reg_df.reg_ts, unit='s').dt.floor('D')\n",
    "auth_df['auth_dt'] = pd.to_datetime(auth_df.auth_ts, unit='s').dt.floor('D')"
   ]
  },
  {
   "cell_type": "markdown",
   "metadata": {},
   "source": [
    "Я создала отдельную колонку для даты, чтобы не терять исходные данные со временем. Теперь взглянем, какие типы данных у нас есть, присутстсвуют ли пропущенные значение и есть ли дубликаты в таблицах (если есть, уберем)."
   ]
  },
  {
   "cell_type": "code",
   "execution_count": 6,
   "metadata": {},
   "outputs": [
    {
     "name": "stdout",
     "output_type": "stream",
     "text": [
      "Таблица регистрации:\n",
      " reg_ts             int64\n",
      "uid                int64\n",
      "reg_dt    datetime64[ns]\n",
      "dtype: object \n",
      "\n",
      "Таблица авторизации:\n",
      " auth_ts             int64\n",
      "uid                 int64\n",
      "auth_dt    datetime64[ns]\n",
      "dtype: object\n"
     ]
    }
   ],
   "source": [
    "print('Таблица регистрации:\\n', reg_df.dtypes, '\\n')\n",
    "print('Таблица авторизации:\\n', auth_df.dtypes)"
   ]
  },
  {
   "cell_type": "code",
   "execution_count": 7,
   "metadata": {},
   "outputs": [
    {
     "data": {
      "text/plain": [
       "reg_ts    0\n",
       "uid       0\n",
       "reg_dt    0\n",
       "dtype: int64"
      ]
     },
     "execution_count": 7,
     "metadata": {},
     "output_type": "execute_result"
    }
   ],
   "source": [
    "reg_df.isna().sum()"
   ]
  },
  {
   "cell_type": "code",
   "execution_count": 8,
   "metadata": {},
   "outputs": [
    {
     "data": {
      "text/plain": [
       "auth_ts    0\n",
       "uid        0\n",
       "auth_dt    0\n",
       "dtype: int64"
      ]
     },
     "execution_count": 8,
     "metadata": {},
     "output_type": "execute_result"
    }
   ],
   "source": [
    "auth_df.isna().sum()"
   ]
  },
  {
   "cell_type": "code",
   "execution_count": 9,
   "metadata": {},
   "outputs": [
    {
     "name": "stdout",
     "output_type": "stream",
     "text": [
      "Размер таблицы регистрации:  1000000\n",
      "Размер таблицы авторизации:  9601013\n"
     ]
    }
   ],
   "source": [
    "reg_shape = reg_df.shape[0]\n",
    "auth_shape = auth_df.shape[0]\n",
    "print('Размер таблицы регистрации: ', reg_shape)\n",
    "print('Размер таблицы авторизации: ', auth_shape)"
   ]
  },
  {
   "cell_type": "code",
   "execution_count": 10,
   "metadata": {},
   "outputs": [
    {
     "data": {
      "text/plain": [
       "1000000"
      ]
     },
     "execution_count": 10,
     "metadata": {},
     "output_type": "execute_result"
    }
   ],
   "source": [
    "reg_df.drop_duplicates().shape[0]"
   ]
  },
  {
   "cell_type": "code",
   "execution_count": 11,
   "metadata": {},
   "outputs": [
    {
     "data": {
      "text/plain": [
       "9601013"
      ]
     },
     "execution_count": 11,
     "metadata": {},
     "output_type": "execute_result"
    }
   ],
   "source": [
    "auth_df.drop_duplicates().shape[0]"
   ]
  },
  {
   "cell_type": "markdown",
   "metadata": {},
   "source": [
    "Дубликатов в датафреймах нет, отлично!\n",
    "\n",
    "Перед тем, как реализовывать функцию для подсчета Retention, посмотрим, за какой период в целом у нас данные."
   ]
  },
  {
   "cell_type": "code",
   "execution_count": 12,
   "metadata": {},
   "outputs": [
    {
     "name": "stdout",
     "output_type": "stream",
     "text": [
      "Период в reg_df: от 1998-11-18 00:00:00  до  2020-09-23 00:00:00\n",
      "Период в auth_df: от 1998-11-18 00:00:00  до  2020-09-23 00:00:00\n"
     ]
    }
   ],
   "source": [
    "print('Период в reg_df: от', reg_df.reg_dt.min(), ' до ', reg_df.reg_dt.max())\n",
    "print('Период в auth_df: от', auth_df.auth_dt.min(), ' до ', auth_df.auth_dt.max())"
   ]
  },
  {
   "cell_type": "markdown",
   "metadata": {},
   "source": [
    "Данные в таблицах регистрации и авторизации у нас за одинаковый период времени. \n",
    "\n",
    "Retention нам необходимо посчитать по дням от даты регистрации игрока. Для того, чтобы python долго не думал, возьмём сэмпл данных за недавний период, а именно:\n",
    "<ul>\n",
    "    <li>регистрация игрока с 25 августа 2020 до 10 сентября 2020</li>\n",
    "    <li>авторизация считается в течение 10 дней после регистрации</li>\n",
    " </ul>\n",
    " \n",
    " Приведу пример: игрок зарегисрировался 26 августа 2020 года, значит, его авторизация будет рассчитана с 26 августа (будет нулевым значением, то есть Retention = 100%) по 5 сентября."
   ]
  },
  {
   "cell_type": "code",
   "execution_count": 13,
   "metadata": {},
   "outputs": [],
   "source": [
    "def retention(reg_path, auth_path, start_date, end_date, days):\n",
    "    \n",
    "    \"\"\"\n",
    "    Функция def retention принимает на вход пять аргументов:\n",
    "\n",
    "        reg_path – путь к датафрейму с регистрацией игроков\n",
    "        auth_path – путь к датафрейму с авторизацией игроков\n",
    "        start_date – дата начала периода регистрации, по которому считаем Retention\n",
    "        end_date – дата конца периода регистрации, по которому считаем Retention\n",
    "        days – количество дней после регистрации, по которому считаем Retention\n",
    "        \n",
    "    Возвращает heatmap Retention'а для выбранной когорты.\n",
    "    \n",
    "    \"\"\"\n",
    "    # считываем датафреймы\n",
    "    reg_data = pd.read_csv(reg_path, sep=';')\n",
    "    auth_data = pd.read_csv(auth_path, sep=';') \n",
    "    \n",
    "    # приводим дату к удобному формату\n",
    "    reg_data['reg_dt'] = pd.to_datetime(reg_data.reg_ts, unit='s').dt.floor('D')\n",
    "    auth_data['auth_dt'] = pd.to_datetime(auth_data.auth_ts, unit='s').dt.floor('D')\n",
    "    \n",
    "    # переводим строку в формат даты\n",
    "    start_date = datetime.strptime(start_date, '%Y-%m-%d').date()\n",
    "    end_date = datetime.strptime(end_date, '%Y-%m-%d').date()\n",
    "    \n",
    "    # определяем временные рамки для датафреймов\n",
    "    reg_data = reg_data.query('reg_dt>=@start_date and reg_dt<=@end_date')\n",
    "    auth_data = auth_data.query('auth_dt>=@start_date')\n",
    "    \n",
    "    # объединяем две таблицы\n",
    "    retention_df = reg_data.merge(auth_data, on='uid', how='left')\n",
    "    \n",
    "    # создаем колонку с разницей между датой регистрации и авторизации в днях\n",
    "    retention_df['difference'] = (retention_df.auth_dt - retention_df.reg_dt).dt.days\n",
    "    \n",
    "    # отбираем только те кортежи, для которых количество дней с даты регистрации =<10\n",
    "    # группируем сначала по дате регистрации, затем по дате авторизации\n",
    "    # агрегируем количество игроков (хотя в таблицах нет дубликатов, я на всякий случай считай nunique)\n",
    "    retention_df = retention_df.query('difference <= @days') \\\n",
    "        .groupby(['reg_dt', 'auth_dt'], as_index=False) \\\n",
    "        .agg({'uid': 'nunique'})\n",
    "    \n",
    "    # здесь я снова считаю колонку с разницей дней и привожу колонку reg_dt к виду год-месяц-дата, так как\n",
    "    # без этого в heatmap она почему-то отображала помимо даты ещё и время \n",
    "    retention_df['period'] = (retention_df.auth_dt - retention_df.reg_dt).dt.days\n",
    "    retention_df['reg_dt'] = retention_df['reg_dt'].dt.strftime('%Y-%m-%d')\n",
    "    \n",
    "    # поворачиваем таблицу\n",
    "    retention_pivot = retention_df \\\n",
    "        .rename(columns={'reg_dt': 'registration_date'}) \\\n",
    "        .pivot_table(index='registration_date', columns='period', values='uid') \n",
    "    \n",
    "    # делим значения в таблице на первый столбец\n",
    "    retention_pivot_div = retention_pivot.div(retention_pivot[0], axis=0)\n",
    "    retention_pivot_div[0] = retention_pivot[0]\n",
    "    \n",
    "    plt.figure(figsize=(20, 8))\n",
    "    plt.title(f'\\nRetention по регистрации от {start_date} до {end_date} в течение {days} дней\\n', fontsize=20)\n",
    "    heatmap = sns.heatmap(data=retention_pivot_div, vmin=0.0, vmax=0.1, cmap='crest', annot=True, fmt='.2%')\n",
    "    \n",
    "    for t in heatmap.texts:\n",
    "        current_text = t.get_text()\n",
    "        if len(current_text) > 5:\n",
    "            t.set_text(current_text[:4])\n",
    "        \n",
    "    # return retention_pivot_div"
   ]
  },
  {
   "cell_type": "code",
   "execution_count": 14,
   "metadata": {},
   "outputs": [
    {
     "data": {
      "image/png": "[encoded data removed]",
      "text/plain": [
       "<Figure size 1440x576 with 2 Axes>"
      ]
     },
     "metadata": {},
     "output_type": "display_data"
    }
   ],
   "source": [
    "retention('problem1-reg_data.csv', 'problem1-auth_data.csv', '2020-08-25', '2020-09-10', 10)"
   ]
  },
  {
   "cell_type": "markdown",
   "metadata": {},
   "source": [
    "<h3><b>Задание 2. </b> A/B-тест</h3>"
   ]
  },
  {
   "cell_type": "markdown",
   "metadata": {},
   "source": [
    "Имеются результаты A/B теста, в котором двум группам пользователей предлагались различные наборы акционных предложений. Известно, что ARPU в тестовой группе выше на 5%, чем в контрольной. При этом в контрольной группе 1928 игроков из 202103 оказались платящими, а в тестовой – 1805 из 202667.\n",
    "\n",
    "Нужно выяснить, какой набор предложений можно считать лучшим и какие метрики стоит проанализировать для принятия правильного решения.\n",
    "\n",
    "Данные лежат в .csv файле, считаем его:"
   ]
  },
  {
   "cell_type": "code",
   "execution_count": 15,
   "metadata": {},
   "outputs": [],
   "source": [
    "ab_df = pd.read_csv('project_1_task_2.csv', sep=';')"
   ]
  },
  {
   "cell_type": "markdown",
   "metadata": {},
   "source": [
    "Как и всегда, для начала посмотрим на сам датафрейм, типы данных в нем, есть ли пропущенные значения или дубликаты."
   ]
  },
  {
   "cell_type": "code",
   "execution_count": 16,
   "metadata": {},
   "outputs": [
    {
     "data": {
      "text/html": [
       "<div>\n",
       "<style scoped>\n",
       "    .dataframe tbody tr th:only-of-type {\n",
       "        vertical-align: middle;\n",
       "    }\n",
       "\n",
       "    .dataframe tbody tr th {\n",
       "        vertical-align: top;\n",
       "    }\n",
       "\n",
       "    .dataframe thead th {\n",
       "        text-align: right;\n",
       "    }\n",
       "</style>\n",
       "<table border=\"1\" class=\"dataframe\">\n",
       "  <thead>\n",
       "    <tr style=\"text-align: right;\">\n",
       "      <th></th>\n",
       "      <th>user_id</th>\n",
       "      <th>revenue</th>\n",
       "      <th>testgroup</th>\n",
       "    </tr>\n",
       "  </thead>\n",
       "  <tbody>\n",
       "    <tr>\n",
       "      <th>0</th>\n",
       "      <td>1</td>\n",
       "      <td>0</td>\n",
       "      <td>b</td>\n",
       "    </tr>\n",
       "    <tr>\n",
       "      <th>1</th>\n",
       "      <td>2</td>\n",
       "      <td>0</td>\n",
       "      <td>a</td>\n",
       "    </tr>\n",
       "    <tr>\n",
       "      <th>2</th>\n",
       "      <td>3</td>\n",
       "      <td>0</td>\n",
       "      <td>a</td>\n",
       "    </tr>\n",
       "    <tr>\n",
       "      <th>3</th>\n",
       "      <td>4</td>\n",
       "      <td>0</td>\n",
       "      <td>b</td>\n",
       "    </tr>\n",
       "    <tr>\n",
       "      <th>4</th>\n",
       "      <td>5</td>\n",
       "      <td>0</td>\n",
       "      <td>b</td>\n",
       "    </tr>\n",
       "  </tbody>\n",
       "</table>\n",
       "</div>"
      ],
      "text/plain": [
       "   user_id  revenue testgroup\n",
       "0        1        0         b\n",
       "1        2        0         a\n",
       "2        3        0         a\n",
       "3        4        0         b\n",
       "4        5        0         b"
      ]
     },
     "execution_count": 16,
     "metadata": {},
     "output_type": "execute_result"
    }
   ],
   "source": [
    "# a - контрольная, b - тестовая\n",
    "ab_df.head()"
   ]
  },
  {
   "cell_type": "code",
   "execution_count": 17,
   "metadata": {},
   "outputs": [
    {
     "data": {
      "text/plain": [
       "user_id       int64\n",
       "revenue       int64\n",
       "testgroup    object\n",
       "dtype: object"
      ]
     },
     "execution_count": 17,
     "metadata": {},
     "output_type": "execute_result"
    }
   ],
   "source": [
    "ab_df.dtypes"
   ]
  },
  {
   "cell_type": "code",
   "execution_count": 18,
   "metadata": {},
   "outputs": [
    {
     "data": {
      "text/plain": [
       "user_id      0\n",
       "revenue      0\n",
       "testgroup    0\n",
       "dtype: int64"
      ]
     },
     "execution_count": 18,
     "metadata": {},
     "output_type": "execute_result"
    }
   ],
   "source": [
    "ab_df.isna().sum()"
   ]
  },
  {
   "cell_type": "code",
   "execution_count": 19,
   "metadata": {},
   "outputs": [
    {
     "name": "stdout",
     "output_type": "stream",
     "text": [
      "Размер таблицы:  404770\n"
     ]
    }
   ],
   "source": [
    "print('Размер таблицы: ', ab_df.shape[0])"
   ]
  },
  {
   "cell_type": "code",
   "execution_count": 20,
   "metadata": {},
   "outputs": [
    {
     "data": {
      "text/plain": [
       "404770"
      ]
     },
     "execution_count": 20,
     "metadata": {},
     "output_type": "execute_result"
    }
   ],
   "source": [
    "ab_df.drop_duplicates().shape[0]"
   ]
  },
  {
   "cell_type": "code",
   "execution_count": 21,
   "metadata": {},
   "outputs": [
    {
     "data": {
      "text/plain": [
       "404770"
      ]
     },
     "execution_count": 21,
     "metadata": {},
     "output_type": "execute_result"
    }
   ],
   "source": [
    "ab_df.user_id.nunique()"
   ]
  },
  {
   "cell_type": "markdown",
   "metadata": {},
   "source": [
    "Так как дубликатов среди <b>user_id</b> нет, проверять дубликаты между user_id / revenue, user_id / testgroup не нужно, потому что все значения user_id и так уникальны."
   ]
  },
  {
   "cell_type": "markdown",
   "metadata": {},
   "source": [
    "Исходя из задания, нам необходимо посчитать ARPU для тестовой и контрольной групп, также нам известно количество платящих пользователей, значит, мы можем посчитать ARPPU и конверсию в покупку.\n",
    "\n",
    "Создадим колонку, которая принимает значение 1, если пользователь платящий, и 0, если нет."
   ]
  },
  {
   "cell_type": "code",
   "execution_count": 22,
   "metadata": {},
   "outputs": [],
   "source": [
    "ab_df['paying_user'] = ab_df.revenue.apply(lambda x: 1 if x > 0 else 0)"
   ]
  },
  {
   "cell_type": "code",
   "execution_count": 23,
   "metadata": {},
   "outputs": [
    {
     "data": {
      "text/html": [
       "<div>\n",
       "<style scoped>\n",
       "    .dataframe tbody tr th:only-of-type {\n",
       "        vertical-align: middle;\n",
       "    }\n",
       "\n",
       "    .dataframe tbody tr th {\n",
       "        vertical-align: top;\n",
       "    }\n",
       "\n",
       "    .dataframe thead th {\n",
       "        text-align: right;\n",
       "    }\n",
       "</style>\n",
       "<table border=\"1\" class=\"dataframe\">\n",
       "  <thead>\n",
       "    <tr style=\"text-align: right;\">\n",
       "      <th></th>\n",
       "      <th>user_id</th>\n",
       "      <th>revenue</th>\n",
       "      <th>testgroup</th>\n",
       "      <th>paying_user</th>\n",
       "    </tr>\n",
       "  </thead>\n",
       "  <tbody>\n",
       "    <tr>\n",
       "      <th>0</th>\n",
       "      <td>1</td>\n",
       "      <td>0</td>\n",
       "      <td>b</td>\n",
       "      <td>0</td>\n",
       "    </tr>\n",
       "    <tr>\n",
       "      <th>1</th>\n",
       "      <td>2</td>\n",
       "      <td>0</td>\n",
       "      <td>a</td>\n",
       "      <td>0</td>\n",
       "    </tr>\n",
       "    <tr>\n",
       "      <th>2</th>\n",
       "      <td>3</td>\n",
       "      <td>0</td>\n",
       "      <td>a</td>\n",
       "      <td>0</td>\n",
       "    </tr>\n",
       "    <tr>\n",
       "      <th>3</th>\n",
       "      <td>4</td>\n",
       "      <td>0</td>\n",
       "      <td>b</td>\n",
       "      <td>0</td>\n",
       "    </tr>\n",
       "    <tr>\n",
       "      <th>4</th>\n",
       "      <td>5</td>\n",
       "      <td>0</td>\n",
       "      <td>b</td>\n",
       "      <td>0</td>\n",
       "    </tr>\n",
       "  </tbody>\n",
       "</table>\n",
       "</div>"
      ],
      "text/plain": [
       "   user_id  revenue testgroup  paying_user\n",
       "0        1        0         b            0\n",
       "1        2        0         a            0\n",
       "2        3        0         a            0\n",
       "3        4        0         b            0\n",
       "4        5        0         b            0"
      ]
     },
     "execution_count": 23,
     "metadata": {},
     "output_type": "execute_result"
    }
   ],
   "source": [
    "ab_df.head()"
   ]
  },
  {
   "cell_type": "markdown",
   "metadata": {},
   "source": [
    "Теперь сгруппируем данные по типу группы и применим агрегацию: \n",
    "<ul>\n",
    "    <li>выручку: сумму по revenue</li>\n",
    "    <li>общее количество пользователей</li>\n",
    "    <li>количество платящих пользователей</li>\n",
    "</ul>"
   ]
  },
  {
   "cell_type": "code",
   "execution_count": 24,
   "metadata": {},
   "outputs": [],
   "source": [
    "result_df = ab_df.groupby('testgroup', as_index=False) \\\n",
    "    .agg({'revenue': 'sum', \n",
    "          'user_id': 'count',\n",
    "          'paying_user': 'sum'})"
   ]
  },
  {
   "cell_type": "markdown",
   "metadata": {},
   "source": [
    "А теперь считаем метрики."
   ]
  },
  {
   "cell_type": "code",
   "execution_count": 25,
   "metadata": {},
   "outputs": [],
   "source": [
    "result_df['ARPU'] = result_df.revenue / result_df.user_id\n",
    "result_df['ARPPU'] = result_df.revenue / result_df.paying_user\n",
    "result_df['Convertion_rate'] = result_df.paying_user / result_df.user_id * 100"
   ]
  },
  {
   "cell_type": "code",
   "execution_count": 26,
   "metadata": {},
   "outputs": [
    {
     "data": {
      "text/html": [
       "<div>\n",
       "<style scoped>\n",
       "    .dataframe tbody tr th:only-of-type {\n",
       "        vertical-align: middle;\n",
       "    }\n",
       "\n",
       "    .dataframe tbody tr th {\n",
       "        vertical-align: top;\n",
       "    }\n",
       "\n",
       "    .dataframe thead th {\n",
       "        text-align: right;\n",
       "    }\n",
       "</style>\n",
       "<table border=\"1\" class=\"dataframe\">\n",
       "  <thead>\n",
       "    <tr style=\"text-align: right;\">\n",
       "      <th></th>\n",
       "      <th>testgroup</th>\n",
       "      <th>revenue</th>\n",
       "      <th>user_id</th>\n",
       "      <th>paying_user</th>\n",
       "      <th>ARPU</th>\n",
       "      <th>ARPPU</th>\n",
       "      <th>Convertion_rate</th>\n",
       "    </tr>\n",
       "  </thead>\n",
       "  <tbody>\n",
       "    <tr>\n",
       "      <th>0</th>\n",
       "      <td>a</td>\n",
       "      <td>5136189</td>\n",
       "      <td>202103</td>\n",
       "      <td>1928</td>\n",
       "      <td>25.413720</td>\n",
       "      <td>2663.998444</td>\n",
       "      <td>0.953969</td>\n",
       "    </tr>\n",
       "    <tr>\n",
       "      <th>1</th>\n",
       "      <td>b</td>\n",
       "      <td>5421603</td>\n",
       "      <td>202667</td>\n",
       "      <td>1805</td>\n",
       "      <td>26.751287</td>\n",
       "      <td>3003.658172</td>\n",
       "      <td>0.890624</td>\n",
       "    </tr>\n",
       "  </tbody>\n",
       "</table>\n",
       "</div>"
      ],
      "text/plain": [
       "  testgroup  revenue  user_id  paying_user       ARPU        ARPPU  \\\n",
       "0         a  5136189   202103         1928  25.413720  2663.998444   \n",
       "1         b  5421603   202667         1805  26.751287  3003.658172   \n",
       "\n",
       "   Convertion_rate  \n",
       "0         0.953969  \n",
       "1         0.890624  "
      ]
     },
     "execution_count": 26,
     "metadata": {},
     "output_type": "execute_result"
    }
   ],
   "source": [
    "result_df"
   ]
  },
  {
   "cell_type": "markdown",
   "metadata": {},
   "source": [
    "<br>\n",
    "Итак, нам необходимо проверить, различаются ли наши метрики статистически значимо. Начнём с <b>ARPU</b>."
   ]
  },
  {
   "cell_type": "code",
   "execution_count": 27,
   "metadata": {},
   "outputs": [
    {
     "data": {
      "text/plain": [
       "5.000009444962146"
      ]
     },
     "execution_count": 27,
     "metadata": {},
     "output_type": "execute_result"
    }
   ],
   "source": [
    "# проверяем, что в тестовой группе ARPU на 5% больше (согласно заданию)\n",
    "100 - result_df.ARPU[0] * 100 / result_df.ARPU[1]"
   ]
  },
  {
   "cell_type": "markdown",
   "metadata": {},
   "source": [
    "Наши гипотезы будут звучать следующим образом:\n",
    "<ol>\n",
    "    <li>H0 – ARPU в двух группах не отличаются</li>\n",
    "    <li>H1 – ARPU в двух группах отличаются стат. значимо</li>\n",
    "</ol>\n",
    "\n",
    "Разделим таблицу на контрольную и тестовую группы."
   ]
  },
  {
   "cell_type": "code",
   "execution_count": 28,
   "metadata": {},
   "outputs": [],
   "source": [
    "control = ab_df.query('testgroup == \"a\"')\n",
    "test = ab_df.query('testgroup == \"b\"')"
   ]
  },
  {
   "cell_type": "code",
   "execution_count": 29,
   "metadata": {},
   "outputs": [
    {
     "data": {
      "image/png": "[encoded data removed]",
      "text/plain": [
       "<Figure size 432x288 with 1 Axes>"
      ]
     },
     "metadata": {},
     "output_type": "display_data"
    },
    {
     "data": {
      "image/png": "[encoded data removed]",
      "text/plain": [
       "<Figure size 432x288 with 1 Axes>"
      ]
     },
     "metadata": {},
     "output_type": "display_data"
    }
   ],
   "source": [
    "fig = sm.qqplot(control.revenue, line='45')\n",
    "plt.show()\n",
    "fig = sm.qqplot(test.revenue, line='45')\n",
    "plt.show()"
   ]
  },
  {
   "cell_type": "markdown",
   "metadata": {},
   "source": [
    "Взглянув на QQPlot, можно уже сделать вывод, что распределния двух групп отличаются от нормального, но мы посмотрим ещё и на boxplot."
   ]
  },
  {
   "cell_type": "code",
   "execution_count": 30,
   "metadata": {},
   "outputs": [
    {
     "data": {
      "text/plain": [
       "<matplotlib.axes._subplots.AxesSubplot at 0x7f0460644518>"
      ]
     },
     "execution_count": 30,
     "metadata": {},
     "output_type": "execute_result"
    },
    {
     "data": {
      "image/png": "[encoded data removed]",
      "text/plain": [
       "<Figure size 432x288 with 1 Axes>"
      ]
     },
     "metadata": {},
     "output_type": "display_data"
    }
   ],
   "source": [
    "sns.boxplot(data=ab_df, x='testgroup', y='revenue')"
   ]
  },
  {
   "cell_type": "markdown",
   "metadata": {},
   "source": [
    "Контрольная группа имеет аномально высокие значения прибыли, посмотрим, сколько имеется таких значений и какой процент от всех платящих пользователей в контрольной группе приходится на эти значения."
   ]
  },
  {
   "cell_type": "code",
   "execution_count": 31,
   "metadata": {},
   "outputs": [
    {
     "data": {
      "text/plain": [
       "123"
      ]
     },
     "execution_count": 31,
     "metadata": {},
     "output_type": "execute_result"
    }
   ],
   "source": [
    "outlier = ab_df.query('testgroup == \"a\" & revenue > 35000').shape[0]\n",
    "outlier"
   ]
  },
  {
   "cell_type": "code",
   "execution_count": 32,
   "metadata": {},
   "outputs": [
    {
     "data": {
      "text/plain": [
       "6.379668049792531"
      ]
     },
     "execution_count": 32,
     "metadata": {},
     "output_type": "execute_result"
    }
   ],
   "source": [
    "outlier / result_df.paying_user[0] * 100"
   ]
  },
  {
   "cell_type": "code",
   "execution_count": 33,
   "metadata": {},
   "outputs": [
    {
     "data": {
      "text/plain": [
       "89.37077665950378"
      ]
     },
     "execution_count": 33,
     "metadata": {},
     "output_type": "execute_result"
    }
   ],
   "source": [
    "outlier_revenue = ab_df.query('testgroup == \"a\" & revenue > 35000').revenue.sum() / result_df.revenue[0] * 100\n",
    "outlier_revenue"
   ]
  },
  {
   "cell_type": "markdown",
   "metadata": {},
   "source": [
    "Примерно 6% (123 пользователя) от всех платящих пользователей в контрольной группе имеют чек больше 35000. Это довольно большой процент, учитывая и тот факт, что эти 6% пользователей приносят 89% выручки, поэтому избавиться от этих аномально высоких значений мы не можем. Более того, мы не можем знать точно, не являются ли эти выбросы ошибкой при сборе данных, либо это реальные данные."
   ]
  },
  {
   "cell_type": "markdown",
   "metadata": {},
   "source": [
    "\n",
    "Проверим две выборки на нормальность с помощью теста Харке-Бера (method=\"normaltest\"), предназначенный для больших выборок."
   ]
  },
  {
   "cell_type": "code",
   "execution_count": 34,
   "metadata": {},
   "outputs": [
    {
     "data": {
      "text/html": [
       "<div>\n",
       "<style scoped>\n",
       "    .dataframe tbody tr th:only-of-type {\n",
       "        vertical-align: middle;\n",
       "    }\n",
       "\n",
       "    .dataframe tbody tr th {\n",
       "        vertical-align: top;\n",
       "    }\n",
       "\n",
       "    .dataframe thead th {\n",
       "        text-align: right;\n",
       "    }\n",
       "</style>\n",
       "<table border=\"1\" class=\"dataframe\">\n",
       "  <thead>\n",
       "    <tr style=\"text-align: right;\">\n",
       "      <th></th>\n",
       "      <th>W</th>\n",
       "      <th>pval</th>\n",
       "      <th>normal</th>\n",
       "    </tr>\n",
       "  </thead>\n",
       "  <tbody>\n",
       "    <tr>\n",
       "      <th>b</th>\n",
       "      <td>326622.395409</td>\n",
       "      <td>0.0</td>\n",
       "      <td>False</td>\n",
       "    </tr>\n",
       "    <tr>\n",
       "      <th>a</th>\n",
       "      <td>585152.731273</td>\n",
       "      <td>0.0</td>\n",
       "      <td>False</td>\n",
       "    </tr>\n",
       "  </tbody>\n",
       "</table>\n",
       "</div>"
      ],
      "text/plain": [
       "               W  pval  normal\n",
       "b  326622.395409   0.0   False\n",
       "a  585152.731273   0.0   False"
      ]
     },
     "execution_count": 34,
     "metadata": {},
     "output_type": "execute_result"
    }
   ],
   "source": [
    "pg.normality(data=ab_df, dv=\"revenue\", group=\"testgroup\", method=\"normaltest\")"
   ]
  },
  {
   "cell_type": "markdown",
   "metadata": {},
   "source": [
    "Обе выборки не являются представителями нормального распределения.\n",
    "\n",
    "\n",
    "Проверим наши группы на гомогенность дисперсий с помощью теста Левена."
   ]
  },
  {
   "cell_type": "code",
   "execution_count": 35,
   "metadata": {},
   "outputs": [
    {
     "data": {
      "text/plain": [
       "LeveneResult(statistic=0.3896289474701388, pvalue=0.5324948591043842)"
      ]
     },
     "execution_count": 35,
     "metadata": {},
     "output_type": "execute_result"
    }
   ],
   "source": [
    "ss.levene(control.revenue, test.revenue)"
   ]
  },
  {
   "cell_type": "markdown",
   "metadata": {},
   "source": [
    "Тест Левена показал, что дисперсии в двух группах однородны, так как pvalue > 0.05, и H1-гипотезу о том, что дисперсии отличаются, отклоняем."
   ]
  },
  {
   "cell_type": "markdown",
   "metadata": {},
   "source": [
    "Для проверки статистической значимости различий ARPU нам необходимо предварительно оценить, какой тест необходимо использовать:\n",
    "<ol>\n",
    "    <li>Величины репрезентативны, независимы и случайны. Гарантировать этого нельзя, так как данные были предосталвены на веру, поэтому будем считать, что это так.</li>\n",
    "    <li>Величины имеют одинаковый масштаб. Это действительно так, количество наблюдений в каждой выборке приблизительно 200 тыс. Хотя стоит заметить, что даже если бы две выборки сильно отличались масштабом, это было бы не критично.</li>\n",
    "    <li>Наши две выборки по объёму достаточно большие, поэтому ЦПТ соблюдается.</li>\n",
    "    <li>Диспресии двух групп гомогенны.</li>\n",
    "</ol>\n",
    "\n",
    "Так как в контрольной группе присутствует достаточно большое количество выбросов, избавиться от которых мы не можем в силу неизвостной природой их возникновения, для сравнения двух выборок используем Bootstrap средних."
   ]
  },
  {
   "cell_type": "code",
   "execution_count": 36,
   "metadata": {},
   "outputs": [],
   "source": [
    "def get_bootstrap(\n",
    "    bootstrap_control,  # числовые значения первой выборки\n",
    "    bootstrap_test,     # числовые значения второй выборки\n",
    "    boot_it=1000,       # количество бутстрэп-подвыборок\n",
    "    statistic=np.mean,  # интересующая нас статистика\n",
    "    bootstrap_conf_level=0.95  # уровень значимости\n",
    "):\n",
    "    boot_data = []\n",
    "    for i in tqdm(range(boot_it)):  # извлекаем подвыборки\n",
    "        samples_1 = bootstrap_control.sample(\n",
    "            len(bootstrap_control), \n",
    "            replace=True  # параметр возвращения\n",
    "        ).values\n",
    "        \n",
    "        samples_2 = bootstrap_test.sample(\n",
    "            len(bootstrap_test), \n",
    "            replace=True\n",
    "        ).values\n",
    "        \n",
    "        boot_data.append(statistic(samples_1) - statistic(samples_2))  # mean() - применяем статистику\n",
    "        \n",
    "    pd_boot_data = pd.DataFrame(boot_data)\n",
    "        \n",
    "    left_quant = (1 - bootstrap_conf_level) / 2\n",
    "    right_quant = 1 - (1 - bootstrap_conf_level) / 2\n",
    "    quants = pd_boot_data.quantile([left_quant, right_quant])\n",
    "        \n",
    "    p_1 = norm.cdf(\n",
    "        x=0, \n",
    "        loc=np.mean(boot_data), \n",
    "        scale=np.std(boot_data)\n",
    "    )\n",
    "    p_2 = norm.cdf(\n",
    "        x=0, \n",
    "        loc=-np.mean(boot_data), \n",
    "        scale=np.std(boot_data)\n",
    "    )\n",
    "    p_value = min(p_1, p_2) * 2\n",
    "        \n",
    "    # Визуализация\n",
    "    _, _, bars = plt.hist(pd_boot_data[0], bins=50)\n",
    "    for bar in bars:\n",
    "        if bar.get_x() <= quants.iloc[0][0] or bar.get_x() >= quants.iloc[1][0]:\n",
    "            bar.set_facecolor('red')\n",
    "        else: \n",
    "            bar.set_facecolor('grey')\n",
    "            bar.set_edgecolor('black')\n",
    "    \n",
    "    plt.style.use('ggplot')\n",
    "    plt.vlines(quants, ymin=0, ymax=50, linestyle='--')\n",
    "    plt.xlabel('boot_data')\n",
    "    plt.ylabel('frequency')\n",
    "    plt.title(\"Histogram of boot_data\")\n",
    "    plt.show()\n",
    "       \n",
    "    return {\"boot_data\": boot_data, \n",
    "            \"quants\": quants, \n",
    "            \"p_value\": p_value}"
   ]
  },
  {
   "cell_type": "code",
   "execution_count": 37,
   "metadata": {},
   "outputs": [
    {
     "data": {
      "application/vnd.jupyter.widget-view+json": {
       "model_id": "b4f63a32c0d54bccbf315fe97b3c20b6",
       "version_major": 2,
       "version_minor": 0
      },
      "text/plain": [
       "HBox(children=(FloatProgress(value=0.0, max=1000.0), HTML(value='')))"
      ]
     },
     "metadata": {},
     "output_type": "display_data"
    },
    {
     "name": "stdout",
     "output_type": "stream",
     "text": [
      "\n"
     ]
    },
    {
     "data": {
      "image/png": "[encoded data removed]",
      "text/plain": [
       "<Figure size 432x288 with 1 Axes>"
      ]
     },
     "metadata": {},
     "output_type": "display_data"
    }
   ],
   "source": [
    "booted_data = get_bootstrap(control.revenue, test.revenue)"
   ]
  },
  {
   "cell_type": "code",
   "execution_count": 38,
   "metadata": {},
   "outputs": [
    {
     "data": {
      "text/plain": [
       "0.550737398380743"
      ]
     },
     "execution_count": 38,
     "metadata": {},
     "output_type": "execute_result"
    }
   ],
   "source": [
    "booted_data[\"p_value\"]"
   ]
  },
  {
   "cell_type": "code",
   "execution_count": 39,
   "metadata": {},
   "outputs": [
    {
     "data": {
      "text/html": [
       "<div>\n",
       "<style scoped>\n",
       "    .dataframe tbody tr th:only-of-type {\n",
       "        vertical-align: middle;\n",
       "    }\n",
       "\n",
       "    .dataframe tbody tr th {\n",
       "        vertical-align: top;\n",
       "    }\n",
       "\n",
       "    .dataframe thead th {\n",
       "        text-align: right;\n",
       "    }\n",
       "</style>\n",
       "<table border=\"1\" class=\"dataframe\">\n",
       "  <thead>\n",
       "    <tr style=\"text-align: right;\">\n",
       "      <th></th>\n",
       "      <th>0</th>\n",
       "    </tr>\n",
       "  </thead>\n",
       "  <tbody>\n",
       "    <tr>\n",
       "      <th>0.025</th>\n",
       "      <td>-5.563419</td>\n",
       "    </tr>\n",
       "    <tr>\n",
       "      <th>0.975</th>\n",
       "      <td>3.092970</td>\n",
       "    </tr>\n",
       "  </tbody>\n",
       "</table>\n",
       "</div>"
      ],
      "text/plain": [
       "              0\n",
       "0.025 -5.563419\n",
       "0.975  3.092970"
      ]
     },
     "execution_count": 39,
     "metadata": {},
     "output_type": "execute_result"
    }
   ],
   "source": [
    "booted_data[\"quants\"]"
   ]
  },
  {
   "cell_type": "markdown",
   "metadata": {},
   "source": [
    "Итак, pvalue > 0.05 и в доверительный интервал попал 0 => разницы между группами нет => H1-гипотезу о различиях ARPU между тестовой и контрольной группами <b>отклоняем</b>."
   ]
  },
  {
   "cell_type": "markdown",
   "metadata": {},
   "source": [
    "Теперь проверим, различается ли метрика <b>ARPPU</b>.\n",
    "Гипотезы:\n",
    "<ol>\n",
    "    <li>Н0 – ARPPU в группах не различаются</li>\n",
    "    <li>Н1 – ARPPU в группах отличаются стат. значимо</li>\n",
    "</ol>"
   ]
  },
  {
   "cell_type": "code",
   "execution_count": 40,
   "metadata": {},
   "outputs": [],
   "source": [
    "control_pay = ab_df.query('testgroup == \"a\" & paying_user == 1')\n",
    "test_pay = ab_df.query('testgroup == \"b\" & paying_user == 1')"
   ]
  },
  {
   "cell_type": "code",
   "execution_count": 41,
   "metadata": {},
   "outputs": [
    {
     "data": {
      "text/plain": [
       "11.308201810607642"
      ]
     },
     "execution_count": 41,
     "metadata": {},
     "output_type": "execute_result"
    }
   ],
   "source": [
    "100 - result_df.ARPPU[0] * 100 / result_df.ARPPU[1]"
   ]
  },
  {
   "cell_type": "markdown",
   "metadata": {},
   "source": [
    "Как можно заметить, в тестовой группе ARPPU больше на 11%, чем в контрольной. Также распределение в тестовой группе ближе к равномерному, у контрольной группы имеются выбросы."
   ]
  },
  {
   "cell_type": "code",
   "execution_count": 42,
   "metadata": {},
   "outputs": [
    {
     "data": {
      "text/plain": [
       "<matplotlib.axes._subplots.AxesSubplot at 0x7f04604cd710>"
      ]
     },
     "execution_count": 42,
     "metadata": {},
     "output_type": "execute_result"
    },
    {
     "data": {
      "image/png": "[encoded data removed]",
      "text/plain": [
       "<Figure size 432x288 with 1 Axes>"
      ]
     },
     "metadata": {},
     "output_type": "display_data"
    }
   ],
   "source": [
    "sns.histplot(test_pay.revenue, bins=50)"
   ]
  },
  {
   "cell_type": "code",
   "execution_count": 43,
   "metadata": {},
   "outputs": [
    {
     "data": {
      "text/plain": [
       "<matplotlib.axes._subplots.AxesSubplot at 0x7f04603b92b0>"
      ]
     },
     "execution_count": 43,
     "metadata": {},
     "output_type": "execute_result"
    },
    {
     "data": {
      "image/png": "[encoded data removed]",
      "text/plain": [
       "<Figure size 432x288 with 1 Axes>"
      ]
     },
     "metadata": {},
     "output_type": "display_data"
    }
   ],
   "source": [
    "sns.histplot(control_pay.revenue, bins=50)"
   ]
  },
  {
   "cell_type": "code",
   "execution_count": 44,
   "metadata": {},
   "outputs": [
    {
     "data": {
      "text/plain": [
       "LeveneResult(statistic=80.85567421779912, pvalue=3.779689868667878e-19)"
      ]
     },
     "execution_count": 44,
     "metadata": {},
     "output_type": "execute_result"
    }
   ],
   "source": [
    "ss.levene(control_pay.revenue, test_pay.revenue)"
   ]
  },
  {
   "cell_type": "markdown",
   "metadata": {},
   "source": [
    "Для проверки на нормальность распределений воспользуемся тестом Шапиро-Уилка. В данном случае он используется оправдано, так как количество наблюдений в выборке < 5000."
   ]
  },
  {
   "cell_type": "code",
   "execution_count": 45,
   "metadata": {},
   "outputs": [
    {
     "data": {
      "text/plain": [
       "ShapiroResult(statistic=0.2667924761772156, pvalue=0.0)"
      ]
     },
     "execution_count": 45,
     "metadata": {},
     "output_type": "execute_result"
    }
   ],
   "source": [
    "ss.shapiro(control_pay.revenue)"
   ]
  },
  {
   "cell_type": "code",
   "execution_count": 46,
   "metadata": {},
   "outputs": [
    {
     "data": {
      "text/plain": [
       "ShapiroResult(statistic=0.9583123922348022, pvalue=2.491345674771425e-22)"
      ]
     },
     "execution_count": 46,
     "metadata": {},
     "output_type": "execute_result"
    }
   ],
   "source": [
    "ss.shapiro(test_pay.revenue)"
   ]
  },
  {
   "cell_type": "markdown",
   "metadata": {},
   "source": [
    "Тест Левена показал, что гомогенность дисперсий не соблюдается (pvalue < 0.05), тесты Шапиро-Уилка также опровергают нулевую гипотезу о том, что распределения в группах нормальны. Так как дисперсии в выборках не равны (тест Левена показал pvalue < 0.05), для оценки ARPPU снова воспользуемся Bootstrap средних."
   ]
  },
  {
   "cell_type": "code",
   "execution_count": 47,
   "metadata": {},
   "outputs": [
    {
     "data": {
      "application/vnd.jupyter.widget-view+json": {
       "model_id": "15148e8da11448efb0027c9c07eb7d6e",
       "version_major": 2,
       "version_minor": 0
      },
      "text/plain": [
       "HBox(children=(FloatProgress(value=0.0, max=1000.0), HTML(value='')))"
      ]
     },
     "metadata": {},
     "output_type": "display_data"
    },
    {
     "name": "stdout",
     "output_type": "stream",
     "text": [
      "\n"
     ]
    },
    {
     "data": {
      "image/png": "[encoded data removed]",
      "text/plain": [
       "<Figure size 432x288 with 1 Axes>"
      ]
     },
     "metadata": {},
     "output_type": "display_data"
    }
   ],
   "source": [
    "booted_data = get_bootstrap(control_pay.revenue, test_pay.revenue)"
   ]
  },
  {
   "cell_type": "code",
   "execution_count": 48,
   "metadata": {},
   "outputs": [
    {
     "data": {
      "text/plain": [
       "0.096353848286979"
      ]
     },
     "execution_count": 48,
     "metadata": {},
     "output_type": "execute_result"
    }
   ],
   "source": [
    "booted_data[\"p_value\"]"
   ]
  },
  {
   "cell_type": "code",
   "execution_count": 49,
   "metadata": {},
   "outputs": [
    {
     "data": {
      "text/html": [
       "<div>\n",
       "<style scoped>\n",
       "    .dataframe tbody tr th:only-of-type {\n",
       "        vertical-align: middle;\n",
       "    }\n",
       "\n",
       "    .dataframe tbody tr th {\n",
       "        vertical-align: top;\n",
       "    }\n",
       "\n",
       "    .dataframe thead th {\n",
       "        text-align: right;\n",
       "    }\n",
       "</style>\n",
       "<table border=\"1\" class=\"dataframe\">\n",
       "  <thead>\n",
       "    <tr style=\"text-align: right;\">\n",
       "      <th></th>\n",
       "      <th>0</th>\n",
       "    </tr>\n",
       "  </thead>\n",
       "  <tbody>\n",
       "    <tr>\n",
       "      <th>0.025</th>\n",
       "      <td>-743.944624</td>\n",
       "    </tr>\n",
       "    <tr>\n",
       "      <th>0.975</th>\n",
       "      <td>73.675222</td>\n",
       "    </tr>\n",
       "  </tbody>\n",
       "</table>\n",
       "</div>"
      ],
      "text/plain": [
       "                0\n",
       "0.025 -743.944624\n",
       "0.975   73.675222"
      ]
     },
     "execution_count": 49,
     "metadata": {},
     "output_type": "execute_result"
    }
   ],
   "source": [
    "booted_data[\"quants\"]"
   ]
  },
  {
   "cell_type": "markdown",
   "metadata": {},
   "source": [
    "P-value снова больше, чем 0.05, и в доверительный интервал попал 0 => ARPPU в тестовой и контрольной группах <b>не отличаются</b>."
   ]
  },
  {
   "cell_type": "markdown",
   "metadata": {},
   "source": [
    "Последняя метрика, которую стоит проверить – <b>Conversion Rate</b>. Так как наши данные в данном случае категориальные (paying_user либо 1, либо 0), то для оценки метрики будем применять Хи-квадрат Пирсона.\n",
    "\n",
    "В контрольной группе CR больше на 7%, чем в тестовой.\n",
    "\n",
    "Гипотезы:\n",
    "<ol>\n",
    "    <li>Н0 – CR в группах не различаются</li>\n",
    "    <li>Н1 – CR в группах отличаются стат. значимо</li>\n",
    "</ol>"
   ]
  },
  {
   "cell_type": "code",
   "execution_count": 50,
   "metadata": {},
   "outputs": [
    {
     "data": {
      "text/plain": [
       "-7.112486717401964"
      ]
     },
     "execution_count": 50,
     "metadata": {},
     "output_type": "execute_result"
    }
   ],
   "source": [
    "100 - result_df.Convertion_rate[0] * 100 / result_df.Convertion_rate[1]"
   ]
  },
  {
   "cell_type": "code",
   "execution_count": 51,
   "metadata": {},
   "outputs": [],
   "source": [
    "# применяем метод\n",
    "statistic, pvalue = ss.chi2_contingency(pd.crosstab(ab_df.testgroup, ab_df.paying_user))[:2]"
   ]
  },
  {
   "cell_type": "code",
   "execution_count": 52,
   "metadata": {},
   "outputs": [
    {
     "data": {
      "text/plain": [
       "(4.374729521260405, 0.03647561892312613)"
      ]
     },
     "execution_count": 52,
     "metadata": {},
     "output_type": "execute_result"
    }
   ],
   "source": [
    "statistic, pvalue"
   ]
  },
  {
   "cell_type": "markdown",
   "metadata": {},
   "source": [
    "Несмотря на то, что ARPU и ARPPU не показало стат.значимых отличий, ситуация с CR обратная. P-value < 0.05, а это даёт нам основания <b>отклонить нулевую гипотезу</b> о том, что CR в группах не отличаются.\n",
    "\n",
    "Исходя из полученных данных, хотелось бы подробнее узнать о выбросах в контрольной группе, откуда они взялись и не является ли это ошибкой при сборе данных."
   ]
  },
  {
   "cell_type": "markdown",
   "metadata": {},
   "source": [
    "<h3><b>Задание 3. </b> Metrics</h3>"
   ]
  },
  {
   "cell_type": "markdown",
   "metadata": {},
   "source": [
    "Метрики для обычной механики:\n",
    "<ol>\n",
    "    <li><b>DAU, WAU</b> – дневная и недельная посещаемость игры. Это стандартные метрики для отслеживания активности игроков, нам необходимо знать, в какие дни чаще всего игроки заходят в приложение (будни или выходные), по возможности также знать время суток.</li><br>\n",
    "    <li><b>Среднее количество пройденных уровней.</b> Эта метрика нужна для того, чтобы понимать, до какого уровня в среднем игрок успеет доходить в течение ивента; возможно, количество уровней необходимо сократить, либо упростить, либо увеличить приз за прохождение уровня, чтобы игроки имели бОльшую мотивацию.</li><br>\n",
    "    <li><b>Среднее время прохождения каждого из уровней.</b> Метрика немного похожа на предыдущую, также отражает, на каких уровнях игроки \"застревают\" или теряют к ивенту/игре интерес.</li><br>\n",
    "    <li><b>Конверсия в прохождение ивента</b> – сколько игроков (новых и старых) вообще проходят эти тематические события? Интересно ли им? Конверсия покажет, насколько успешно ивент завершился.</li><br>\n",
    "    <li><b>Revenue</b> – если в игре показывается реклама + есть возможность что-то купить за деньги. Нужна для того, чтобы в дальнейшем понять, окупаются ли затраты на разработку.</li><br>\n",
    "    <li><b>ASD</b> (Average Session Duration) – сколько в среднем времени игрок в целом провёл в игре за одну сессию. Кто-то может заходить в игру несколько раз на пять минут, а кто-то играет час или даже больше. Можно проанализировать, кто из игроков приносит бОльшую выгоду: например те, кто заходит ненадолго несколько раз в день, либо те, кто заходят в игру однократно, но надолго.</li><br>\n",
    "    <li><b>Stickiness rate</b> – регулярность использования приложения в течение месяца (в нашем случае это ивент). Логично, что чем больше раз игрок посещает приложение, тем лучше.</li><br>\n",
    "    <li><b>Churn Rate</b> – отток игроков во время ивента. Поможет узнать, сколько игроков отвалилось, исходя из этого оценить, успешен ли был ивент в зависимости от того, какой процент отвалился ранее. Сколько лояльных игроков покинуло приложение? Как их вернуть?</li><br>\n",
    "    <li><b>Retention</b> по дням. Также для оценки успешности ивента в ходе его проведения. Насколько инетересны уровни и выгодны призы, если пользователь продолжает играть на протяжении, например, двух недель?</li><br>\n",
    "    <li><b>Количество игроков, прошедших ивент до конца.</b> Если ивент прошёл достаточно высокий процент игроков, которые в целом его проходили, необходимо ли усложнять механику? Или игроки были сильно вовлечены в игру?</li><br>\n",
    "</ol>\n",
    "\n",
    "В случае, если мы услжняем механику, к вышеупомянутым метрикам добавятся:\n",
    "<ol>\n",
    "    <li><b>Среднее количество игроков, которые не смогли пройти уровень с первого раза (по каждому уровню).</b> Эта метрика покажет, сложный ли уровень в случае, если значительная часть игроков не смогла пройти его с первого раза. Также необходимо учесть, является ли этот уровень одним из последних, или же это начальные уровни. В случае, если уровень начальный, то у игроков может потеряться мотивация проходить ивент дальше, учитвая то, что его откатит назад. Возможно, в следующий раз (если механику решат оставить) требуется провести более тщательное тестирование уровней на сложность.</li><br>\n",
    "    <li><b>Уровни, которые чаще всего не проходят с первого раза.</b> Исходит из предыдущей (топ среднего количества игроков), в дальнейшем можно отследить, связаны ли эти уровни с теми, после которых игрок отваливается.</li><br>\n",
    "    <li><b>Уровни, на которых игроки чаще всего бросают прохождение ивента.</b> Как было уже сказано, как вариант необходимо проверить, связано ли это со сложностью определенных уровней, либо же есть какая-то другая причина. Например, игроки бросают ивент в начале, столкнувшись с первым откатом, и теряют мотивацию играть дальше.</li><br>\n",
    "    <li><b>Уровни, которые игроки чаще всего не проходят несколько раз подряд.</b> Напрямую может влиять на то, что после n-ой попытки пройти уровень, игрок потеряет интерес/взбесится/устанет и перестанет играть. Скорее всего, это неудачный уровень, с другой стороны, к концу ивента уровни должны быть сложными. Также можно посмотреть, оправдана ли награда за прохождение уровня.</li><br>\n",
    "    <li><b>Среднее количество откатов, после которого игрок перестаёт проходить ивент.</b> Как и в прошлых метриках, тут отображено, на сколько игрока \"хватает\", чтобы не покинуть игру после череды неудач. Много ли таких игроков? До какого уровня они дошли?</li><br>\n",
    "</ol>\n",
    "С точки зрения игрока, механика неудачная, так как откат на несколько (!) уровней назад очень легко может спровоцировать демотивацию. Проще было бы сделать счетчик жизней (если их нет), либо же таймер после нескольких поражений в прохождении уровня, с истечением которого игрок снова может попробовать пройти уровень."
   ]
  }
 ],
 "metadata": {
  "kernelspec": {
   "display_name": "Python 3",
   "language": "python",
   "name": "python3"
  },
  "language_info": {
   "codemirror_mode": {
    "name": "ipython",
    "version": 3
   },
   "file_extension": ".py",
   "mimetype": "text/x-python",
   "name": "python",
   "nbconvert_exporter": "python",
   "pygments_lexer": "ipython3",
   "version": "3.7.3"
  }
 },
 "nbformat": 4,
 "nbformat_minor": 4
}
